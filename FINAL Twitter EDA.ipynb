{
 "cells": [
  {
   "cell_type": "code",
   "execution_count": 1,
   "metadata": {},
   "outputs": [],
   "source": [
    "#importing packages \n",
    "import IPython.display as display\n",
    "import pandas as pd\n",
    "import numpy as np\n",
    "import seaborn as sns\n",
    "import matplotlib.pyplot as plt\n",
    "import re\n",
    "import collections\n",
    "import emot\n",
    "import plotly.graph_objs as go\n",
    "from plotly.offline import init_notebook_mode, iplot"
   ]
  },
  {
   "cell_type": "code",
   "execution_count": 2,
   "metadata": {},
   "outputs": [],
   "source": [
    "#reading in twitter dataset\n",
    "tweets_df = pd.read_csv('FinalDataset23102022.csv')"
   ]
  },
  {
   "cell_type": "code",
   "execution_count": 11,
   "metadata": {},
   "outputs": [
    {
     "data": {
      "text/html": [
       "<div>\n",
       "<style scoped>\n",
       "    .dataframe tbody tr th:only-of-type {\n",
       "        vertical-align: middle;\n",
       "    }\n",
       "\n",
       "    .dataframe tbody tr th {\n",
       "        vertical-align: top;\n",
       "    }\n",
       "\n",
       "    .dataframe thead th {\n",
       "        text-align: right;\n",
       "    }\n",
       "</style>\n",
       "<table border=\"1\" class=\"dataframe\">\n",
       "  <thead>\n",
       "    <tr style=\"text-align: right;\">\n",
       "      <th></th>\n",
       "      <th>Unnamed: 0</th>\n",
       "      <th>author id</th>\n",
       "      <th>created_at</th>\n",
       "      <th>geo</th>\n",
       "      <th>id</th>\n",
       "      <th>lang</th>\n",
       "      <th>like_count</th>\n",
       "      <th>quote_count</th>\n",
       "      <th>reply_count</th>\n",
       "      <th>retweet_count</th>\n",
       "      <th>source</th>\n",
       "      <th>tweet</th>\n",
       "      <th>SearchTerm</th>\n",
       "    </tr>\n",
       "  </thead>\n",
       "  <tbody>\n",
       "    <tr>\n",
       "      <th>0</th>\n",
       "      <td>0</td>\n",
       "      <td>9.277850e+07</td>\n",
       "      <td>2022-09-27 12:35:04+00:00</td>\n",
       "      <td></td>\n",
       "      <td>1.574740e+18</td>\n",
       "      <td>en</td>\n",
       "      <td>0</td>\n",
       "      <td>0</td>\n",
       "      <td>0</td>\n",
       "      <td>3</td>\n",
       "      <td>Twitter for iPhone</td>\n",
       "      <td>RT @theAstroAgency: We couldn’t be more proud ...</td>\n",
       "      <td>AwarenessSpaceSustainability</td>\n",
       "    </tr>\n",
       "    <tr>\n",
       "      <th>1</th>\n",
       "      <td>1</td>\n",
       "      <td>1.498580e+18</td>\n",
       "      <td>2022-09-27 09:00:58+00:00</td>\n",
       "      <td></td>\n",
       "      <td>1.574690e+18</td>\n",
       "      <td>en</td>\n",
       "      <td>1</td>\n",
       "      <td>0</td>\n",
       "      <td>0</td>\n",
       "      <td>0</td>\n",
       "      <td>Hootsuite Inc.</td>\n",
       "      <td>📅 Exciting meeting coming up soon! The World S...</td>\n",
       "      <td>AwarenessSpaceSustainability</td>\n",
       "    </tr>\n",
       "    <tr>\n",
       "      <th>2</th>\n",
       "      <td>2</td>\n",
       "      <td>1.295120e+18</td>\n",
       "      <td>2022-09-26 21:01:32+00:00</td>\n",
       "      <td></td>\n",
       "      <td>1.574500e+18</td>\n",
       "      <td>en</td>\n",
       "      <td>0</td>\n",
       "      <td>0</td>\n",
       "      <td>0</td>\n",
       "      <td>3</td>\n",
       "      <td>Twitter for iPhone</td>\n",
       "      <td>RT @theAstroAgency: We couldn’t be more proud ...</td>\n",
       "      <td>AwarenessSpaceSustainability</td>\n",
       "    </tr>\n",
       "    <tr>\n",
       "      <th>3</th>\n",
       "      <td>3</td>\n",
       "      <td>3.006811e+09</td>\n",
       "      <td>2022-09-26 12:41:04+00:00</td>\n",
       "      <td></td>\n",
       "      <td>1.574380e+18</td>\n",
       "      <td>en</td>\n",
       "      <td>0</td>\n",
       "      <td>0</td>\n",
       "      <td>0</td>\n",
       "      <td>3</td>\n",
       "      <td>Twitter Web App</td>\n",
       "      <td>RT @theAstroAgency: We couldn’t be more proud ...</td>\n",
       "      <td>AwarenessSpaceSustainability</td>\n",
       "    </tr>\n",
       "    <tr>\n",
       "      <th>4</th>\n",
       "      <td>4</td>\n",
       "      <td>1.150120e+18</td>\n",
       "      <td>2022-09-26 12:08:52+00:00</td>\n",
       "      <td></td>\n",
       "      <td>1.574370e+18</td>\n",
       "      <td>en</td>\n",
       "      <td>14</td>\n",
       "      <td>0</td>\n",
       "      <td>2</td>\n",
       "      <td>3</td>\n",
       "      <td>Twitter Web App</td>\n",
       "      <td>We couldn’t be more proud to be part of the 2n...</td>\n",
       "      <td>AwarenessSpaceSustainability</td>\n",
       "    </tr>\n",
       "    <tr>\n",
       "      <th>...</th>\n",
       "      <td>...</td>\n",
       "      <td>...</td>\n",
       "      <td>...</td>\n",
       "      <td>...</td>\n",
       "      <td>...</td>\n",
       "      <td>...</td>\n",
       "      <td>...</td>\n",
       "      <td>...</td>\n",
       "      <td>...</td>\n",
       "      <td>...</td>\n",
       "      <td>...</td>\n",
       "      <td>...</td>\n",
       "      <td>...</td>\n",
       "    </tr>\n",
       "    <tr>\n",
       "      <th>24680</th>\n",
       "      <td>1362</td>\n",
       "      <td>1.331470e+18</td>\n",
       "      <td>2022-09-02 11:15:42+00:00</td>\n",
       "      <td></td>\n",
       "      <td>1.565660e+18</td>\n",
       "      <td>en</td>\n",
       "      <td>0</td>\n",
       "      <td>0</td>\n",
       "      <td>0</td>\n",
       "      <td>0</td>\n",
       "      <td>Twitter</td>\n",
       "      <td>Space tourism! ticket price SpaceX $54,634,407...</td>\n",
       "      <td>VirginGalatic</td>\n",
       "    </tr>\n",
       "    <tr>\n",
       "      <th>24681</th>\n",
       "      <td>1363</td>\n",
       "      <td>1.331470e+18</td>\n",
       "      <td>2022-09-02 11:15:03+00:00</td>\n",
       "      <td></td>\n",
       "      <td>1.565660e+18</td>\n",
       "      <td>en</td>\n",
       "      <td>0</td>\n",
       "      <td>0</td>\n",
       "      <td>0</td>\n",
       "      <td>0</td>\n",
       "      <td>Twitter</td>\n",
       "      <td>Space tourism! ticket price SpaceX $54,634,407...</td>\n",
       "      <td>VirginGalatic</td>\n",
       "    </tr>\n",
       "    <tr>\n",
       "      <th>24682</th>\n",
       "      <td>1364</td>\n",
       "      <td>1.331470e+18</td>\n",
       "      <td>2022-09-02 11:14:27+00:00</td>\n",
       "      <td></td>\n",
       "      <td>1.565660e+18</td>\n",
       "      <td>en</td>\n",
       "      <td>0</td>\n",
       "      <td>0</td>\n",
       "      <td>0</td>\n",
       "      <td>0</td>\n",
       "      <td>Twitter</td>\n",
       "      <td>Space tourism! ticket price SpaceX $54,634,407...</td>\n",
       "      <td>VirginGalatic</td>\n",
       "    </tr>\n",
       "    <tr>\n",
       "      <th>24683</th>\n",
       "      <td>1365</td>\n",
       "      <td>1.440000e+18</td>\n",
       "      <td>2022-09-01 17:49:23+00:00</td>\n",
       "      <td></td>\n",
       "      <td>1.565400e+18</td>\n",
       "      <td>en</td>\n",
       "      <td>1</td>\n",
       "      <td>0</td>\n",
       "      <td>0</td>\n",
       "      <td>0</td>\n",
       "      <td>Reddit Official</td>\n",
       "      <td>I just posted \"Virgin Galactic Future Astronau...</td>\n",
       "      <td>VirginGalatic</td>\n",
       "    </tr>\n",
       "    <tr>\n",
       "      <th>24684</th>\n",
       "      <td>1366</td>\n",
       "      <td>1.440000e+18</td>\n",
       "      <td>2022-09-01 17:46:04+00:00</td>\n",
       "      <td></td>\n",
       "      <td>1.565400e+18</td>\n",
       "      <td>en</td>\n",
       "      <td>1</td>\n",
       "      <td>0</td>\n",
       "      <td>0</td>\n",
       "      <td>0</td>\n",
       "      <td>Twitter Web App</td>\n",
       "      <td>Virgin Galactic Future Astronaut Community \\nS...</td>\n",
       "      <td>VirginGalatic</td>\n",
       "    </tr>\n",
       "  </tbody>\n",
       "</table>\n",
       "<p>24685 rows × 13 columns</p>\n",
       "</div>"
      ],
      "text/plain": [
       "       Unnamed: 0     author id                 created_at geo            id  \\\n",
       "0               0  9.277850e+07  2022-09-27 12:35:04+00:00      1.574740e+18   \n",
       "1               1  1.498580e+18  2022-09-27 09:00:58+00:00      1.574690e+18   \n",
       "2               2  1.295120e+18  2022-09-26 21:01:32+00:00      1.574500e+18   \n",
       "3               3  3.006811e+09  2022-09-26 12:41:04+00:00      1.574380e+18   \n",
       "4               4  1.150120e+18  2022-09-26 12:08:52+00:00      1.574370e+18   \n",
       "...           ...           ...                        ...  ..           ...   \n",
       "24680        1362  1.331470e+18  2022-09-02 11:15:42+00:00      1.565660e+18   \n",
       "24681        1363  1.331470e+18  2022-09-02 11:15:03+00:00      1.565660e+18   \n",
       "24682        1364  1.331470e+18  2022-09-02 11:14:27+00:00      1.565660e+18   \n",
       "24683        1365  1.440000e+18  2022-09-01 17:49:23+00:00      1.565400e+18   \n",
       "24684        1366  1.440000e+18  2022-09-01 17:46:04+00:00      1.565400e+18   \n",
       "\n",
       "      lang  like_count  quote_count  reply_count  retweet_count  \\\n",
       "0       en           0            0            0              3   \n",
       "1       en           1            0            0              0   \n",
       "2       en           0            0            0              3   \n",
       "3       en           0            0            0              3   \n",
       "4       en          14            0            2              3   \n",
       "...    ...         ...          ...          ...            ...   \n",
       "24680   en           0            0            0              0   \n",
       "24681   en           0            0            0              0   \n",
       "24682   en           0            0            0              0   \n",
       "24683   en           1            0            0              0   \n",
       "24684   en           1            0            0              0   \n",
       "\n",
       "                   source                                              tweet  \\\n",
       "0      Twitter for iPhone  RT @theAstroAgency: We couldn’t be more proud ...   \n",
       "1          Hootsuite Inc.  📅 Exciting meeting coming up soon! The World S...   \n",
       "2      Twitter for iPhone  RT @theAstroAgency: We couldn’t be more proud ...   \n",
       "3         Twitter Web App  RT @theAstroAgency: We couldn’t be more proud ...   \n",
       "4         Twitter Web App  We couldn’t be more proud to be part of the 2n...   \n",
       "...                   ...                                                ...   \n",
       "24680             Twitter  Space tourism! ticket price SpaceX $54,634,407...   \n",
       "24681             Twitter  Space tourism! ticket price SpaceX $54,634,407...   \n",
       "24682             Twitter  Space tourism! ticket price SpaceX $54,634,407...   \n",
       "24683     Reddit Official  I just posted \"Virgin Galactic Future Astronau...   \n",
       "24684     Twitter Web App  Virgin Galactic Future Astronaut Community \\nS...   \n",
       "\n",
       "                         SearchTerm  \n",
       "0      AwarenessSpaceSustainability  \n",
       "1      AwarenessSpaceSustainability  \n",
       "2      AwarenessSpaceSustainability  \n",
       "3      AwarenessSpaceSustainability  \n",
       "4      AwarenessSpaceSustainability  \n",
       "...                             ...  \n",
       "24680                 VirginGalatic  \n",
       "24681                 VirginGalatic  \n",
       "24682                 VirginGalatic  \n",
       "24683                 VirginGalatic  \n",
       "24684                 VirginGalatic  \n",
       "\n",
       "[24685 rows x 13 columns]"
      ]
     },
     "execution_count": 11,
     "metadata": {},
     "output_type": "execute_result"
    }
   ],
   "source": [
    "tweets_df"
   ]
  },
  {
   "cell_type": "code",
   "execution_count": 12,
   "metadata": {},
   "outputs": [],
   "source": [
    "summary = tweets_df[['tweet', 'like_count', 'retweet_count', 'quote_count', 'reply_count']].describe()\n",
    "\n",
    "summary = summary.round(2)\n",
    "\n",
    "summary = summary.loc[['count','mean', 'std', 'min', 'max']]"
   ]
  },
  {
   "cell_type": "code",
   "execution_count": 13,
   "metadata": {},
   "outputs": [
    {
     "name": "stdout",
     "output_type": "stream",
     "text": [
      "       like_count  retweet_count  quote_count  reply_count\n",
      "count    24685.00       24685.00     24685.00     24685.00\n",
      "mean         1.62          18.30         0.05         0.15\n",
      "std         22.15         118.83         0.67         2.56\n",
      "min          0.00           0.00         0.00         0.00\n",
      "max       1931.00       11209.00        59.00       257.00\n"
     ]
    }
   ],
   "source": [
    "print(summary)"
   ]
  },
  {
   "cell_type": "code",
   "execution_count": 14,
   "metadata": {},
   "outputs": [
    {
     "data": {
      "text/html": [
       "<div>\n",
       "<style scoped>\n",
       "    .dataframe tbody tr th:only-of-type {\n",
       "        vertical-align: middle;\n",
       "    }\n",
       "\n",
       "    .dataframe tbody tr th {\n",
       "        vertical-align: top;\n",
       "    }\n",
       "\n",
       "    .dataframe thead th {\n",
       "        text-align: right;\n",
       "    }\n",
       "</style>\n",
       "<table border=\"1\" class=\"dataframe\">\n",
       "  <thead>\n",
       "    <tr style=\"text-align: right;\">\n",
       "      <th></th>\n",
       "      <th>like_count</th>\n",
       "      <th>retweet_count</th>\n",
       "      <th>quote_count</th>\n",
       "      <th>reply_count</th>\n",
       "    </tr>\n",
       "  </thead>\n",
       "  <tbody>\n",
       "    <tr>\n",
       "      <th>count</th>\n",
       "      <td>24685.00</td>\n",
       "      <td>24685.00</td>\n",
       "      <td>24685.00</td>\n",
       "      <td>24685.00</td>\n",
       "    </tr>\n",
       "    <tr>\n",
       "      <th>mean</th>\n",
       "      <td>1.62</td>\n",
       "      <td>18.30</td>\n",
       "      <td>0.05</td>\n",
       "      <td>0.15</td>\n",
       "    </tr>\n",
       "    <tr>\n",
       "      <th>std</th>\n",
       "      <td>22.15</td>\n",
       "      <td>118.83</td>\n",
       "      <td>0.67</td>\n",
       "      <td>2.56</td>\n",
       "    </tr>\n",
       "    <tr>\n",
       "      <th>min</th>\n",
       "      <td>0.00</td>\n",
       "      <td>0.00</td>\n",
       "      <td>0.00</td>\n",
       "      <td>0.00</td>\n",
       "    </tr>\n",
       "    <tr>\n",
       "      <th>max</th>\n",
       "      <td>1931.00</td>\n",
       "      <td>11209.00</td>\n",
       "      <td>59.00</td>\n",
       "      <td>257.00</td>\n",
       "    </tr>\n",
       "  </tbody>\n",
       "</table>\n",
       "</div>"
      ],
      "text/plain": [
       "       like_count  retweet_count  quote_count  reply_count\n",
       "count    24685.00       24685.00     24685.00     24685.00\n",
       "mean         1.62          18.30         0.05         0.15\n",
       "std         22.15         118.83         0.67         2.56\n",
       "min          0.00           0.00         0.00         0.00\n",
       "max       1931.00       11209.00        59.00       257.00"
      ]
     },
     "metadata": {},
     "output_type": "display_data"
    }
   ],
   "source": [
    "\n",
    "display.display(summary)\n"
   ]
  },
  {
   "cell_type": "code",
   "execution_count": 15,
   "metadata": {},
   "outputs": [
    {
     "name": "stdout",
     "output_type": "stream",
     "text": [
      "\n",
      "Most Liked Tweet:\n",
      "🧑🏿‍🚀👩‍🚀 We continue to push the boundaries of where customers can process their space data—including the @Space_Station. @JeffBarr explains how @Axiom_Space &amp; #AWS pave the way for future space missions in this latest blog. #SpaceIndustry #SpaceTech\n",
      "🔗 https://t.co/qTzUagpjTX https://t.co/YEGGbCsq4o\n",
      "Number of likes: 1931\n",
      "Total number of unique authors: 10203\n",
      "Total number of tweets: 24685\n",
      "Average number of retweets: 18.29718452501519\n",
      "Average number of favorites: 1.6219566538383634\n"
     ]
    }
   ],
   "source": [
    "# Basic Statistics\n",
    "most_liked = tweets_df[tweets_df['like_count'] == tweets_df['like_count'].max()]\n",
    "\n",
    "\n",
    "number_of_users = tweets_df['author id'].nunique()\n",
    "total_tweets = tweets_df.shape[0]\n",
    "avg_retweets = tweets_df['retweet_count'].mean()\n",
    "avg_favorites = tweets_df['like_count'].mean()\n",
    "\n",
    "\n",
    "print(\"\\nMost Liked Tweet:\")\n",
    "print(most_liked['tweet'].values[0])\n",
    "print(f\"Number of likes: {most_liked['like_count'].values[0]}\")\n",
    "\n",
    "\n",
    "print(f'Total number of unique authors: {number_of_users}')\n",
    "print(f'Total number of tweets: {total_tweets}')\n",
    "print(f'Average number of retweets: {avg_retweets}')\n",
    "print(f'Average number of favorites: {avg_favorites}')"
   ]
  },
  {
   "cell_type": "code",
   "execution_count": 20,
   "metadata": {},
   "outputs": [
    {
     "name": "stdout",
     "output_type": "stream",
     "text": [
      "Number of tweets per search term:\n"
     ]
    },
    {
     "data": {
      "text/plain": [
       "SearchTerm\n",
       "spaceindustry                   6373\n",
       "SpaceSustainability             6343\n",
       "SpaceTourism                    3975\n",
       "NewSpaceEconomy                 3682\n",
       "SpaceAdventures                 1424\n",
       "VirginGalatic                   1367\n",
       "spacetraveller                   626\n",
       "SpacePerspective                 508\n",
       "AwarenessSpaceSustainability     385\n",
       "spaceclubs                         2\n",
       "Name: count, dtype: int64"
      ]
     },
     "metadata": {},
     "output_type": "display_data"
    }
   ],
   "source": [
    "# Tweets per search term\n",
    "tweets_per_search_term = tweets_df['SearchTerm'].value_counts()\n",
    "print('Number of tweets per search term:')\n",
    "display.display(tweets_per_search_term)"
   ]
  },
  {
   "cell_type": "code",
   "execution_count": 17,
   "metadata": {},
   "outputs": [
    {
     "name": "stdout",
     "output_type": "stream",
     "text": [
      "Average retweets per search term:\n",
      "SearchTerm\n",
      "AwarenessSpaceSustainability    38.607792\n",
      "NewSpaceEconomy                  1.445139\n",
      "SpaceAdventures                 16.316011\n",
      "SpacePerspective                31.387795\n",
      "SpaceSustainability             24.532556\n",
      "SpaceTourism                    43.006541\n",
      "VirginGalatic                    0.236284\n",
      "spaceclubs                       0.000000\n",
      "spaceindustry                    2.404990\n",
      "spacetraveller                  80.017572\n",
      "Name: retweet_count, dtype: float64\n",
      "Average favorites per search term:\n",
      "SearchTerm\n",
      "AwarenessSpaceSustainability    2.010390\n",
      "NewSpaceEconomy                 0.278110\n",
      "SpaceAdventures                 4.023174\n",
      "SpacePerspective                3.332677\n",
      "SpaceSustainability             2.358190\n",
      "SpaceTourism                    1.396981\n",
      "VirginGalatic                   0.218727\n",
      "spaceclubs                      1.500000\n",
      "spaceindustry                   1.425075\n",
      "spacetraveller                  1.474441\n",
      "Name: like_count, dtype: float64\n"
     ]
    }
   ],
   "source": [
    "#Average retweets and favourites per search term\n",
    "\n",
    "avg_retweets_per_search_term = tweets_df.groupby('SearchTerm')['retweet_count'].mean()\n",
    "avg_favorites_per_search_term = tweets_df.groupby('SearchTerm')['like_count'].mean()\n",
    "\n",
    "print('Average retweets per search term:')\n",
    "print(avg_retweets_per_search_term)\n",
    "print('Average favorites per search term:')\n",
    "print(avg_favorites_per_search_term)\n"
   ]
  },
  {
   "cell_type": "code",
   "execution_count": 18,
   "metadata": {},
   "outputs": [
    {
     "data": {
      "image/png": "[encoded data removed]",
      "text/plain": [
       "<Figure size 1000x600 with 1 Axes>"
      ]
     },
     "metadata": {},
     "output_type": "display_data"
    }
   ],
   "source": [
    "#Setting Seaborn aesthetics\n",
    "sns.set_context(\"poster\")\n",
    "sns.set_theme()\n",
    "sns.set_style(\"ticks\")\n",
    "palette = sns.color_palette(\"Paired\")\n",
    "\n",
    "#Plot of the number of tweets per search term\n",
    "plt.figure(figsize=(10,6))\n",
    "sns.countplot(y=\"SearchTerm\", data=tweets_df, order = tweets_df['SearchTerm'].value_counts().index, palette=palette)\n",
    "plt.title('Number of Tweets per Search Term')\n",
    "plt.xlabel('Count')\n",
    "plt.ylabel('Search Term')\n",
    "plt.show()\n",
    "\n"
   ]
  },
  {
   "cell_type": "code",
   "execution_count": 19,
   "metadata": {},
   "outputs": [
    {
     "name": "stderr",
     "output_type": "stream",
     "text": [
      "/var/folders/gs/yd9pl3hx6zv82xw89hyvfw0r0000gn/T/ipykernel_60600/2978348708.py:6: UserWarning:\n",
      "\n",
      "The palette list has more values (12) than needed (10), which may not be intended.\n",
      "\n"
     ]
    },
    {
     "data": {
      "image/png": "[encoded data removed]",
      "text/plain": [
       "<Figure size 1200x600 with 1 Axes>"
      ]
     },
     "metadata": {},
     "output_type": "display_data"
    }
   ],
   "source": [
    "#Exploring density across time for each search term\n",
    "tweets_df['created_at'] = pd.to_datetime(tweets_df['created_at'])\n",
    "\n",
    "#Plotting distplot\n",
    "plt.figure(figsize=(12, 6))\n",
    "sns.kdeplot(tweets_df, x='created_at', hue='SearchTerm', palette=palette)\n",
    "plt.title(\"Tweet behaviour Over Time by Search Term\")\n",
    "plt.xlabel(\"Tweet Time\")\n",
    "plt.ylabel(\"Density\")\n",
    "plt.show()\n",
    "\n"
   ]
  },
  {
   "cell_type": "code",
   "execution_count": 22,
   "metadata": {},
   "outputs": [],
   "source": [
    "#Extracting emoticons\n",
    "\n",
    "emot_obj = emot.core.emot() \n",
    "# Define a function to extract emoticons\n",
    "def extract_emoticons(text):\n",
    "  res = emot_obj.emoji(text)\n",
    "  return res['value']"
   ]
  },
  {
   "cell_type": "code",
   "execution_count": 23,
   "metadata": {},
   "outputs": [],
   "source": [
    "# Apply the function to each row of the 'tweet' column\n",
    "tweets_df['emoticons'] = tweets_df['tweet'].apply(extract_emoticons)\n",
    "# Count the emojis in each list\n",
    "tweets_df['emoticons'].apply(lambda x: collections.Counter(x))\n",
    "# Combine the counts\n",
    "combined_counts = sum(tweets_df['emoticons'].apply(lambda x: collections.Counter(x)), collections.Counter())\n",
    "# Transform it into a dictionary\n",
    "emoji_dict = dict(combined_counts)\n",
    "# Sort it in a descending order\n",
    "sorted_emoji_dict = dict(sorted(emoji_dict.items(), key=lambda x: x[1], reverse=True))\n",
    "# Keep the top 10\n",
    "d = {k: v for i, (k, v) in enumerate(sorted_emoji_dict.items()) if i < 10}\n",
    "# Convert the dict to a DataFrame for Plotly\n",
    "emoji_df = pd.DataFrame(list(d.items()), columns=['Emojis', 'Count'])"
   ]
  },
  {
   "cell_type": "code",
   "execution_count": 26,
   "metadata": {},
   "outputs": [
    {
     "data": {
      "application/vnd.plotly.v1+json": {
       "config": {
        "linkText": "Export to plot.ly",
        "plotlyServerURL": "https://plot.ly",
        "showLink": false
       },
       "data": [
        {
         "marker": {
          "line": {
           "color": "black"
          }
         },
         "type": "bar",
         "x": [
          "🚀",
          "🛰",
          "✈",
          "🏍",
          "🚁",
          "👉",
          "❤",
          "🔥",
          "📢",
          "🌗"
         ],
         "y": [
          1970,
          723,
          408,
          373,
          373,
          355,
          319,
          313,
          249,
          220
         ]
        }
       ],
       "layout": {
        "template": {
         "data": {
          "bar": [
           {
            "error_x": {
             "color": "#2a3f5f"
            },
            "error_y": {
             "color": "#2a3f5f"
            },
            "marker": {
             "line": {
              "color": "#E5ECF6",
              "width": 0.5
             },
             "pattern": {
              "fillmode": "overlay",
              "size": 10,
              "solidity": 0.2
             }
            },
            "type": "bar"
           }
          ],
          "barpolar": [
           {
            "marker": {
             "line": {
              "color": "#E5ECF6",
              "width": 0.5
             },
             "pattern": {
              "fillmode": "overlay",
              "size": 10,
              "solidity": 0.2
             }
            },
            "type": "barpolar"
           }
          ],
          "carpet": [
           {
            "aaxis": {
             "endlinecolor": "#2a3f5f",
             "gridcolor": "white",
             "linecolor": "white",
             "minorgridcolor": "white",
             "startlinecolor": "#2a3f5f"
            },
            "baxis": {
             "endlinecolor": "#2a3f5f",
             "gridcolor": "white",
             "linecolor": "white",
             "minorgridcolor": "white",
             "startlinecolor": "#2a3f5f"
            },
            "type": "carpet"
           }
          ],
          "choropleth": [
           {
            "colorbar": {
             "outlinewidth": 0,
             "ticks": ""
            },
            "type": "choropleth"
           }
          ],
          "contour": [
           {
            "colorbar": {
             "outlinewidth": 0,
             "ticks": ""
            },
            "colorscale": [
             [
              0,
              "#0d0887"
             ],
             [
              0.1111111111111111,
              "#46039f"
             ],
             [
              0.2222222222222222,
              "#7201a8"
             ],
             [
              0.3333333333333333,
              "#9c179e"
             ],
             [
              0.4444444444444444,
              "#bd3786"
             ],
             [
              0.5555555555555556,
              "#d8576b"
             ],
             [
              0.6666666666666666,
              "#ed7953"
             ],
             [
              0.7777777777777778,
              "#fb9f3a"
             ],
             [
              0.8888888888888888,
              "#fdca26"
             ],
             [
              1,
              "#f0f921"
             ]
            ],
            "type": "contour"
           }
          ],
          "contourcarpet": [
           {
            "colorbar": {
             "outlinewidth": 0,
             "ticks": ""
            },
            "type": "contourcarpet"
           }
          ],
          "heatmap": [
           {
            "colorbar": {
             "outlinewidth": 0,
             "ticks": ""
            },
            "colorscale": [
             [
              0,
              "#0d0887"
             ],
             [
              0.1111111111111111,
              "#46039f"
             ],
             [
              0.2222222222222222,
              "#7201a8"
             ],
             [
              0.3333333333333333,
              "#9c179e"
             ],
             [
              0.4444444444444444,
              "#bd3786"
             ],
             [
              0.5555555555555556,
              "#d8576b"
             ],
             [
              0.6666666666666666,
              "#ed7953"
             ],
             [
              0.7777777777777778,
              "#fb9f3a"
             ],
             [
              0.8888888888888888,
              "#fdca26"
             ],
             [
              1,
              "#f0f921"
             ]
            ],
            "type": "heatmap"
           }
          ],
          "heatmapgl": [
           {
            "colorbar": {
             "outlinewidth": 0,
             "ticks": ""
            },
            "colorscale": [
             [
              0,
              "#0d0887"
             ],
             [
              0.1111111111111111,
              "#46039f"
             ],
             [
              0.2222222222222222,
              "#7201a8"
             ],
             [
              0.3333333333333333,
              "#9c179e"
             ],
             [
              0.4444444444444444,
              "#bd3786"
             ],
             [
              0.5555555555555556,
              "#d8576b"
             ],
             [
              0.6666666666666666,
              "#ed7953"
             ],
             [
              0.7777777777777778,
              "#fb9f3a"
             ],
             [
              0.8888888888888888,
              "#fdca26"
             ],
             [
              1,
              "#f0f921"
             ]
            ],
            "type": "heatmapgl"
           }
          ],
          "histogram": [
           {
            "marker": {
             "pattern": {
              "fillmode": "overlay",
              "size": 10,
              "solidity": 0.2
             }
            },
            "type": "histogram"
           }
          ],
          "histogram2d": [
           {
            "colorbar": {
             "outlinewidth": 0,
             "ticks": ""
            },
            "colorscale": [
             [
              0,
              "#0d0887"
             ],
             [
              0.1111111111111111,
              "#46039f"
             ],
             [
              0.2222222222222222,
              "#7201a8"
             ],
             [
              0.3333333333333333,
              "#9c179e"
             ],
             [
              0.4444444444444444,
              "#bd3786"
             ],
             [
              0.5555555555555556,
              "#d8576b"
             ],
             [
              0.6666666666666666,
              "#ed7953"
             ],
             [
              0.7777777777777778,
              "#fb9f3a"
             ],
             [
              0.8888888888888888,
              "#fdca26"
             ],
             [
              1,
              "#f0f921"
             ]
            ],
            "type": "histogram2d"
           }
          ],
          "histogram2dcontour": [
           {
            "colorbar": {
             "outlinewidth": 0,
             "ticks": ""
            },
            "colorscale": [
             [
              0,
              "#0d0887"
             ],
             [
              0.1111111111111111,
              "#46039f"
             ],
             [
              0.2222222222222222,
              "#7201a8"
             ],
             [
              0.3333333333333333,
              "#9c179e"
             ],
             [
              0.4444444444444444,
              "#bd3786"
             ],
             [
              0.5555555555555556,
              "#d8576b"
             ],
             [
              0.6666666666666666,
              "#ed7953"
             ],
             [
              0.7777777777777778,
              "#fb9f3a"
             ],
             [
              0.8888888888888888,
              "#fdca26"
             ],
             [
              1,
              "#f0f921"
             ]
            ],
            "type": "histogram2dcontour"
           }
          ],
          "mesh3d": [
           {
            "colorbar": {
             "outlinewidth": 0,
             "ticks": ""
            },
            "type": "mesh3d"
           }
          ],
          "parcoords": [
           {
            "line": {
             "colorbar": {
              "outlinewidth": 0,
              "ticks": ""
             }
            },
            "type": "parcoords"
           }
          ],
          "pie": [
           {
            "automargin": true,
            "type": "pie"
           }
          ],
          "scatter": [
           {
            "fillpattern": {
             "fillmode": "overlay",
             "size": 10,
             "solidity": 0.2
            },
            "type": "scatter"
           }
          ],
          "scatter3d": [
           {
            "line": {
             "colorbar": {
              "outlinewidth": 0,
              "ticks": ""
             }
            },
            "marker": {
             "colorbar": {
              "outlinewidth": 0,
              "ticks": ""
             }
            },
            "type": "scatter3d"
           }
          ],
          "scattercarpet": [
           {
            "marker": {
             "colorbar": {
              "outlinewidth": 0,
              "ticks": ""
             }
            },
            "type": "scattercarpet"
           }
          ],
          "scattergeo": [
           {
            "marker": {
             "colorbar": {
              "outlinewidth": 0,
              "ticks": ""
             }
            },
            "type": "scattergeo"
           }
          ],
          "scattergl": [
           {
            "marker": {
             "colorbar": {
              "outlinewidth": 0,
              "ticks": ""
             }
            },
            "type": "scattergl"
           }
          ],
          "scattermapbox": [
           {
            "marker": {
             "colorbar": {
              "outlinewidth": 0,
              "ticks": ""
             }
            },
            "type": "scattermapbox"
           }
          ],
          "scatterpolar": [
           {
            "marker": {
             "colorbar": {
              "outlinewidth": 0,
              "ticks": ""
             }
            },
            "type": "scatterpolar"
           }
          ],
          "scatterpolargl": [
           {
            "marker": {
             "colorbar": {
              "outlinewidth": 0,
              "ticks": ""
             }
            },
            "type": "scatterpolargl"
           }
          ],
          "scatterternary": [
           {
            "marker": {
             "colorbar": {
              "outlinewidth": 0,
              "ticks": ""
             }
            },
            "type": "scatterternary"
           }
          ],
          "surface": [
           {
            "colorbar": {
             "outlinewidth": 0,
             "ticks": ""
            },
            "colorscale": [
             [
              0,
              "#0d0887"
             ],
             [
              0.1111111111111111,
              "#46039f"
             ],
             [
              0.2222222222222222,
              "#7201a8"
             ],
             [
              0.3333333333333333,
              "#9c179e"
             ],
             [
              0.4444444444444444,
              "#bd3786"
             ],
             [
              0.5555555555555556,
              "#d8576b"
             ],
             [
              0.6666666666666666,
              "#ed7953"
             ],
             [
              0.7777777777777778,
              "#fb9f3a"
             ],
             [
              0.8888888888888888,
              "#fdca26"
             ],
             [
              1,
              "#f0f921"
             ]
            ],
            "type": "surface"
           }
          ],
          "table": [
           {
            "cells": {
             "fill": {
              "color": "#EBF0F8"
             },
             "line": {
              "color": "white"
             }
            },
            "header": {
             "fill": {
              "color": "#C8D4E3"
             },
             "line": {
              "color": "white"
             }
            },
            "type": "table"
           }
          ]
         },
         "layout": {
          "annotationdefaults": {
           "arrowcolor": "#2a3f5f",
           "arrowhead": 0,
           "arrowwidth": 1
          },
          "autotypenumbers": "strict",
          "coloraxis": {
           "colorbar": {
            "outlinewidth": 0,
            "ticks": ""
           }
          },
          "colorscale": {
           "diverging": [
            [
             0,
             "#8e0152"
            ],
            [
             0.1,
             "#c51b7d"
            ],
            [
             0.2,
             "#de77ae"
            ],
            [
             0.3,
             "#f1b6da"
            ],
            [
             0.4,
             "#fde0ef"
            ],
            [
             0.5,
             "#f7f7f7"
            ],
            [
             0.6,
             "#e6f5d0"
            ],
            [
             0.7,
             "#b8e186"
            ],
            [
             0.8,
             "#7fbc41"
            ],
            [
             0.9,
             "#4d9221"
            ],
            [
             1,
             "#276419"
            ]
           ],
           "sequential": [
            [
             0,
             "#0d0887"
            ],
            [
             0.1111111111111111,
             "#46039f"
            ],
            [
             0.2222222222222222,
             "#7201a8"
            ],
            [
             0.3333333333333333,
             "#9c179e"
            ],
            [
             0.4444444444444444,
             "#bd3786"
            ],
            [
             0.5555555555555556,
             "#d8576b"
            ],
            [
             0.6666666666666666,
             "#ed7953"
            ],
            [
             0.7777777777777778,
             "#fb9f3a"
            ],
            [
             0.8888888888888888,
             "#fdca26"
            ],
            [
             1,
             "#f0f921"
            ]
           ],
           "sequentialminus": [
            [
             0,
             "#0d0887"
            ],
            [
             0.1111111111111111,
             "#46039f"
            ],
            [
             0.2222222222222222,
             "#7201a8"
            ],
            [
             0.3333333333333333,
             "#9c179e"
            ],
            [
             0.4444444444444444,
             "#bd3786"
            ],
            [
             0.5555555555555556,
             "#d8576b"
            ],
            [
             0.6666666666666666,
             "#ed7953"
            ],
            [
             0.7777777777777778,
             "#fb9f3a"
            ],
            [
             0.8888888888888888,
             "#fdca26"
            ],
            [
             1,
             "#f0f921"
            ]
           ]
          },
          "colorway": [
           "#636efa",
           "#EF553B",
           "#00cc96",
           "#ab63fa",
           "#FFA15A",
           "#19d3f3",
           "#FF6692",
           "#B6E880",
           "#FF97FF",
           "#FECB52"
          ],
          "font": {
           "color": "#2a3f5f"
          },
          "geo": {
           "bgcolor": "white",
           "lakecolor": "white",
           "landcolor": "#E5ECF6",
           "showlakes": true,
           "showland": true,
           "subunitcolor": "white"
          },
          "hoverlabel": {
           "align": "left"
          },
          "hovermode": "closest",
          "mapbox": {
           "style": "light"
          },
          "paper_bgcolor": "white",
          "plot_bgcolor": "#E5ECF6",
          "polar": {
           "angularaxis": {
            "gridcolor": "white",
            "linecolor": "white",
            "ticks": ""
           },
           "bgcolor": "#E5ECF6",
           "radialaxis": {
            "gridcolor": "white",
            "linecolor": "white",
            "ticks": ""
           }
          },
          "scene": {
           "xaxis": {
            "backgroundcolor": "#E5ECF6",
            "gridcolor": "white",
            "gridwidth": 2,
            "linecolor": "white",
            "showbackground": true,
            "ticks": "",
            "zerolinecolor": "white"
           },
           "yaxis": {
            "backgroundcolor": "#E5ECF6",
            "gridcolor": "white",
            "gridwidth": 2,
            "linecolor": "white",
            "showbackground": true,
            "ticks": "",
            "zerolinecolor": "white"
           },
           "zaxis": {
            "backgroundcolor": "#E5ECF6",
            "gridcolor": "white",
            "gridwidth": 2,
            "linecolor": "white",
            "showbackground": true,
            "ticks": "",
            "zerolinecolor": "white"
           }
          },
          "shapedefaults": {
           "line": {
            "color": "#2a3f5f"
           }
          },
          "ternary": {
           "aaxis": {
            "gridcolor": "white",
            "linecolor": "white",
            "ticks": ""
           },
           "baxis": {
            "gridcolor": "white",
            "linecolor": "white",
            "ticks": ""
           },
           "bgcolor": "#E5ECF6",
           "caxis": {
            "gridcolor": "white",
            "linecolor": "white",
            "ticks": ""
           }
          },
          "title": {
           "x": 0.05
          },
          "xaxis": {
           "automargin": true,
           "gridcolor": "white",
           "linecolor": "white",
           "ticks": "",
           "title": {
            "standoff": 15
           },
           "zerolinecolor": "white",
           "zerolinewidth": 2
          },
          "yaxis": {
           "automargin": true,
           "gridcolor": "white",
           "linecolor": "white",
           "ticks": "",
           "title": {
            "standoff": 15
           },
           "zerolinecolor": "white",
           "zerolinewidth": 2
          }
         }
        },
        "title": {
         "text": "The 10 Most commonly tweeted emojis"
        },
        "xaxis": {
         "title": {
          "text": "Emojis"
         }
        },
        "yaxis": {
         "title": {
          "text": "Count"
         }
        }
       }
      }
     },
     "metadata": {},
     "output_type": "display_data"
    }
   ],
   "source": [
    "#Creating plot\n",
    "emoji_counts = emoji_df.groupby('Emojis').sum()['Count'].sort_values(ascending=False)\n",
    "\n",
    "# Create a bar chart\n",
    "data = [go.Bar(\n",
    "    x=emoji_counts.index,\n",
    "    y=emoji_counts.values,\n",
    "    marker=dict(line=dict(color='black'))\n",
    ")]\n",
    "\n",
    "layout = go.Layout(\n",
    "    title='The 10 Most commonly tweeted emojis',\n",
    "    xaxis=dict(title='Emojis'),\n",
    "    yaxis=dict(title='Count')\n",
    ")\n",
    "\n",
    "fig = go.Figure(data=data, layout=layout)\n",
    "\n",
    "# Plot the figure using iplot\n",
    "iplot(fig)\n"
   ]
  },
  {
   "cell_type": "code",
   "execution_count": null,
   "metadata": {},
   "outputs": [],
   "source": []
  }
 ],
 "metadata": {
  "kernelspec": {
   "display_name": "base",
   "language": "python",
   "name": "python3"
  },
  "language_info": {
   "codemirror_mode": {
    "name": "ipython",
    "version": 3
   },
   "file_extension": ".py",
   "mimetype": "text/x-python",
   "name": "python",
   "nbconvert_exporter": "python",
   "pygments_lexer": "ipython3",
   "version": "3.11.4"
  },
  "orig_nbformat": 4
 },
 "nbformat": 4,
 "nbformat_minor": 2
}
